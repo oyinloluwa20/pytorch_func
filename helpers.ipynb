{
 "cells": [
  {
   "cell_type": "code",
   "execution_count": 11,
   "metadata": {},
   "outputs": [
    {
     "name": "stdout",
     "output_type": "stream",
     "text": [
      "torch.Size([22, 3, 300])\n"
     ]
    }
   ],
   "source": [
    "# 1. torch.nn.utils.rnn.pad_sequence - https://pytorch.org/docs/stable/generated/torch.nn.utils.rnn.pad_sequence.html#torch-nn-utils-rnn-pad-sequence\n",
    "# it pads up uneven rows, when the column numbers are the same and vice versa\n",
    "import torch\n",
    "from torch.nn.utils.rnn import pad_sequence\n",
    "\n",
    "#exmaple 1\n",
    "\n",
    "a = torch.ones(20, 300)\n",
    "b = torch.ones(22, 300)\n",
    "c = torch.ones(15, 300)\n",
    "print(pad_sequence([a, b, c]).size())"
   ]
  },
  {
   "attachments": {},
   "cell_type": "markdown",
   "metadata": {},
   "source": [
    "This function returns a Tensor of size T x B x * or B x T x * where T is the length of the longest sequence. This function assumes trailing dimensions and type of all the Tensors in sequences are same.\n",
    "\n",
    "Parameters:\n",
    "sequences (list[Tensor]) – list of variable length sequences.\n",
    "\n",
    "batch_first (bool, optional) – output will be in B x T x * if True, or in T x B x * otherwise. Default: False.\n",
    "\n",
    "padding_value (float, optional) – value for padded elements. Default: 0.\n",
    "\n",
    "Returns:\n",
    "Tensor of size T x B x * if batch_first is False. Tensor of size B x T x * otherwise\n",
    "\n",
    "Return type:\n",
    "Tensor"
   ]
  },
  {
   "cell_type": "code",
   "execution_count": null,
   "metadata": {},
   "outputs": [],
   "source": [
    "# Example 2\n",
    "\n",
    "# trace\n",
    "torch.einsum('ii', torch.randn(4, 4))\n",
    "\n",
    "# diagonal\n",
    "torch.einsum('ii->i', torch.randn(4, 4))\n",
    "\n",
    "# outer product\n",
    "x = torch.randn(5)\n",
    "y = torch.randn(4)\n",
    "torch.einsum('i,j->ij', x, y)\n",
    "# batch matrix multiplication\n",
    "As = torch.randn(3, 2, 5)\n",
    "Bs = torch.randn(3, 5, 4)\n",
    "torch.einsum('bij,bjk->bik', As, Bs)\n",
    "# with sublist format and ellipsis\n",
    "torch.einsum(As, [..., 0, 1], Bs, [..., 1, 2], [..., 0, 2])\n",
    "# batch permute\n",
    "A = torch.randn(2, 3, 4, 5)\n",
    "torch.einsum('...ij->...ji', A).shape\n",
    "# equivalent to torch.nn.functional.bilinear\n",
    "A = torch.randn(3, 5, 4)\n",
    "l = torch.randn(2, 5)\n",
    "r = torch.randn(2, 4)\n",
    "torch.einsum('bn,anm,bm->ba', l, A, r)"
   ]
  },
  {
   "cell_type": "code",
   "execution_count": 91,
   "metadata": {},
   "outputs": [
    {
     "data": {
      "text/plain": [
       "(tensor([[ 0.3367,  0.1288,  0.2345],\n",
       "         [ 0.2303, -1.1229, -0.1863]]),\n",
       " tensor([[ 2.2082, -0.6380],\n",
       "         [ 0.4617,  0.2674],\n",
       "         [ 0.5349,  0.8094],\n",
       "         [ 1.1103, -1.6898]]),\n",
       " tensor([[ 0.2345],\n",
       "         [-0.1863]]),\n",
       " tensor([[-0.6380],\n",
       "         [ 0.2674],\n",
       "         [ 0.8094],\n",
       "         [-1.6898]]))"
      ]
     },
     "execution_count": 91,
     "metadata": {},
     "output_type": "execute_result"
    }
   ],
   "source": [
    "# A = torch.randn(3, 5, 4)\n",
    "torch.manual_seed(42)\n",
    "l = torch.randn(2, 3)\n",
    "r = torch.randn(4, 2)\n",
    "# n = torch.einsum('bn,anm,bm ->ba', l, A, r)\n",
    "l,r,l[...,-1:], r[:,1:]"
   ]
  },
  {
   "cell_type": "code",
   "execution_count": 89,
   "metadata": {},
   "outputs": [
    {
     "data": {
      "text/plain": [
       "(tensor([[[ 1.9269,  1.4873,  0.9007, -2.1055],\n",
       "          [ 0.6784, -1.2345, -0.0431, -1.6047],\n",
       "          [-0.7521,  1.6487, -0.3925, -1.4036],\n",
       "          [-0.7279, -0.5594, -0.7688,  0.7624]]]),\n",
       " 3)"
      ]
     },
     "execution_count": 89,
     "metadata": {},
     "output_type": "execute_result"
    }
   ],
   "source": [
    "torch.manual_seed(42)\n",
    "x = torch.randn(1,4,4)\n",
    "y = len(x.shape)\n",
    "\n",
    "x, y"
   ]
  }
 ],
 "metadata": {
  "kernelspec": {
   "display_name": "Python 3",
   "language": "python",
   "name": "python3"
  },
  "language_info": {
   "codemirror_mode": {
    "name": "ipython",
    "version": 3
   },
   "file_extension": ".py",
   "mimetype": "text/x-python",
   "name": "python",
   "nbconvert_exporter": "python",
   "pygments_lexer": "ipython3",
   "version": "3.10.6"
  },
  "orig_nbformat": 4
 },
 "nbformat": 4,
 "nbformat_minor": 2
}
